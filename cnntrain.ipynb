{
 "cells": [
  {
   "cell_type": "markdown",
   "metadata": {},
   "source": [
    "## Malaria Detection (CNN) Using  Transfer Learning"
   ]
  },
  {
   "cell_type": "code",
   "execution_count": 4,
   "metadata": {},
   "outputs": [],
   "source": [
    "\n",
    "\n",
    "from tensorflow.keras.layers import Input, Lambda, Dense, Flatten,Conv2D\n",
    "from tensorflow.keras.models import Model\n",
    "from tensorflow.keras.applications.vgg19 import VGG19\n",
    "from tensorflow.keras.preprocessing import image\n",
    "from tensorflow.keras.preprocessing.image import ImageDataGenerator,load_img\n",
    "from tensorflow.keras.models import Sequential\n",
    "import numpy as np\n",
    "from glob import glob\n",
    "import matplotlib.pyplot as plt"
   ]
  },
  {
   "cell_type": "code",
   "execution_count": 3,
   "metadata": {},
   "outputs": [
    {
     "name": "stdout",
     "output_type": "stream",
     "text": [
      "2.1.0\n"
     ]
    }
   ],
   "source": [
    "import tensorflow as tf\n",
    "print(tf.__version__)"
   ]
  },
  {
   "cell_type": "code",
   "execution_count": 3,
   "metadata": {},
   "outputs": [],
   "source": [
    "\n",
    "IMAGE_SIZE = [224, 224]\n",
    "\n",
    "train_path = 'Dataset\\Train'\n",
    "valid_path = 'Dataset\\Test'\n"
   ]
  },
  {
   "cell_type": "code",
   "execution_count": 4,
   "metadata": {},
   "outputs": [],
   "source": [
    "\n",
    "mobilnet = VGG19(input_shape=IMAGE_SIZE + [3], weights='imagenet', include_top=False)\n",
    "\n"
   ]
  },
  {
   "cell_type": "code",
   "execution_count": 5,
   "metadata": {},
   "outputs": [],
   "source": [
    "\n",
    "for layer in mobilnet.layers:\n",
    "    layer.trainable = False"
   ]
  },
  {
   "cell_type": "code",
   "execution_count": 6,
   "metadata": {},
   "outputs": [],
   "source": [
    "\n",
    "folders = glob('Dataset/Train/*')"
   ]
  },
  {
   "cell_type": "code",
   "execution_count": 7,
   "metadata": {},
   "outputs": [
    {
     "data": {
      "text/plain": [
       "['Dataset/Train\\\\Parasite', 'Dataset/Train\\\\Uninfected']"
      ]
     },
     "execution_count": 7,
     "metadata": {},
     "output_type": "execute_result"
    }
   ],
   "source": [
    "folders"
   ]
  },
  {
   "cell_type": "code",
   "execution_count": 8,
   "metadata": {},
   "outputs": [],
   "source": [
    "\n",
    "x = Flatten()(mobilnet.output)"
   ]
  },
  {
   "cell_type": "code",
   "execution_count": 9,
   "metadata": {},
   "outputs": [],
   "source": [
    "prediction = Dense(len(folders), activation='softmax')(x)\n",
    "model = Model(inputs=mobilnet.input, outputs=prediction)"
   ]
  },
  {
   "cell_type": "code",
   "execution_count": 10,
   "metadata": {},
   "outputs": [
    {
     "name": "stdout",
     "output_type": "stream",
     "text": [
      "Model: \"model\"\n",
      "_________________________________________________________________\n",
      "Layer (type)                 Output Shape              Param #   \n",
      "=================================================================\n",
      "input_1 (InputLayer)         [(None, 224, 224, 3)]     0         \n",
      "_________________________________________________________________\n",
      "block1_conv1 (Conv2D)        (None, 224, 224, 64)      1792      \n",
      "_________________________________________________________________\n",
      "block1_conv2 (Conv2D)        (None, 224, 224, 64)      36928     \n",
      "_________________________________________________________________\n",
      "block1_pool (MaxPooling2D)   (None, 112, 112, 64)      0         \n",
      "_________________________________________________________________\n",
      "block2_conv1 (Conv2D)        (None, 112, 112, 128)     73856     \n",
      "_________________________________________________________________\n",
      "block2_conv2 (Conv2D)        (None, 112, 112, 128)     147584    \n",
      "_________________________________________________________________\n",
      "block2_pool (MaxPooling2D)   (None, 56, 56, 128)       0         \n",
      "_________________________________________________________________\n",
      "block3_conv1 (Conv2D)        (None, 56, 56, 256)       295168    \n",
      "_________________________________________________________________\n",
      "block3_conv2 (Conv2D)        (None, 56, 56, 256)       590080    \n",
      "_________________________________________________________________\n",
      "block3_conv3 (Conv2D)        (None, 56, 56, 256)       590080    \n",
      "_________________________________________________________________\n",
      "block3_conv4 (Conv2D)        (None, 56, 56, 256)       590080    \n",
      "_________________________________________________________________\n",
      "block3_pool (MaxPooling2D)   (None, 28, 28, 256)       0         \n",
      "_________________________________________________________________\n",
      "block4_conv1 (Conv2D)        (None, 28, 28, 512)       1180160   \n",
      "_________________________________________________________________\n",
      "block4_conv2 (Conv2D)        (None, 28, 28, 512)       2359808   \n",
      "_________________________________________________________________\n",
      "block4_conv3 (Conv2D)        (None, 28, 28, 512)       2359808   \n",
      "_________________________________________________________________\n",
      "block4_conv4 (Conv2D)        (None, 28, 28, 512)       2359808   \n",
      "_________________________________________________________________\n",
      "block4_pool (MaxPooling2D)   (None, 14, 14, 512)       0         \n",
      "_________________________________________________________________\n",
      "block5_conv1 (Conv2D)        (None, 14, 14, 512)       2359808   \n",
      "_________________________________________________________________\n",
      "block5_conv2 (Conv2D)        (None, 14, 14, 512)       2359808   \n",
      "_________________________________________________________________\n",
      "block5_conv3 (Conv2D)        (None, 14, 14, 512)       2359808   \n",
      "_________________________________________________________________\n",
      "block5_conv4 (Conv2D)        (None, 14, 14, 512)       2359808   \n",
      "_________________________________________________________________\n",
      "block5_pool (MaxPooling2D)   (None, 7, 7, 512)         0         \n",
      "_________________________________________________________________\n",
      "flatten (Flatten)            (None, 25088)             0         \n",
      "_________________________________________________________________\n",
      "dense (Dense)                (None, 2)                 50178     \n",
      "=================================================================\n",
      "Total params: 20,074,562\n",
      "Trainable params: 50,178\n",
      "Non-trainable params: 20,024,384\n",
      "_________________________________________________________________\n"
     ]
    }
   ],
   "source": [
    "\n",
    "model.summary()\n"
   ]
  },
  {
   "cell_type": "code",
   "execution_count": 11,
   "metadata": {},
   "outputs": [],
   "source": [
    "\n",
    "model.compile(\n",
    "  loss='categorical_crossentropy',\n",
    "  optimizer='adam',\n",
    "  metrics=['accuracy']\n",
    ")\n"
   ]
  },
  {
   "cell_type": "code",
   "execution_count": 7,
   "metadata": {},
   "outputs": [],
   "source": [
    "\n",
    "from tensorflow.keras.preprocessing.image import ImageDataGenerator\n",
    "\n",
    "train_datagen = ImageDataGenerator(rescale = 1./255,\n",
    "                                   shear_range = 0.2,\n",
    "                                   zoom_range = 0.2,\n",
    "                                   horizontal_flip = True)\n",
    "\n",
    "test_datagen = ImageDataGenerator(rescale = 1./255)"
   ]
  },
  {
   "cell_type": "code",
   "execution_count": 13,
   "metadata": {},
   "outputs": [
    {
     "name": "stdout",
     "output_type": "stream",
     "text": [
      "Found 416 images belonging to 2 classes.\n"
     ]
    }
   ],
   "source": [
    "\n",
    "training_set = train_datagen.flow_from_directory('Dataset/Train',\n",
    "                                                 target_size = (224, 224),\n",
    "                                                 batch_size = 32,\n",
    "                                                 class_mode = 'categorical')"
   ]
  },
  {
   "cell_type": "code",
   "execution_count": 14,
   "metadata": {},
   "outputs": [
    {
     "data": {
      "text/plain": [
       "<keras_preprocessing.image.directory_iterator.DirectoryIterator at 0x263c9110748>"
      ]
     },
     "execution_count": 14,
     "metadata": {},
     "output_type": "execute_result"
    }
   ],
   "source": [
    "training_set"
   ]
  },
  {
   "cell_type": "code",
   "execution_count": 8,
   "metadata": {},
   "outputs": [
    {
     "name": "stdout",
     "output_type": "stream",
     "text": [
      "Found 134 images belonging to 2 classes.\n"
     ]
    }
   ],
   "source": [
    "test_set = test_datagen.flow_from_directory('Dataset/Test',\n",
    "                                            target_size = (224, 224),\n",
    "                                            batch_size = 32,\n",
    "                                            class_mode = 'categorical')"
   ]
  },
  {
   "cell_type": "code",
   "execution_count": 16,
   "metadata": {
    "scrolled": true
   },
   "outputs": [
    {
     "name": "stdout",
     "output_type": "stream",
     "text": [
      "WARNING:tensorflow:From <ipython-input-16-69229fe26ea3>:8: Model.fit_generator (from tensorflow.python.keras.engine.training) is deprecated and will be removed in a future version.\n",
      "Instructions for updating:\n",
      "Please use Model.fit, which supports generators.\n",
      "WARNING:tensorflow:sample_weight modes were coerced from\n",
      "  ...\n",
      "    to  \n",
      "  ['...']\n",
      "WARNING:tensorflow:sample_weight modes were coerced from\n",
      "  ...\n",
      "    to  \n",
      "  ['...']\n",
      "Train for 13 steps, validate for 5 steps\n",
      "Epoch 1/50\n",
      "13/13 [==============================] - 99s 8s/step - loss: 1.6161 - accuracy: 0.5216 - val_loss: 2.3524 - val_accuracy: 0.3284\n",
      "Epoch 2/50\n",
      "13/13 [==============================] - 102s 8s/step - loss: 0.7840 - accuracy: 0.6178 - val_loss: 0.5918 - val_accuracy: 0.6866\n",
      "Epoch 3/50\n",
      "13/13 [==============================] - 104s 8s/step - loss: 0.6321 - accuracy: 0.6683 - val_loss: 0.4671 - val_accuracy: 0.7164\n",
      "Epoch 4/50\n",
      "13/13 [==============================] - 105s 8s/step - loss: 0.4841 - accuracy: 0.7692 - val_loss: 0.8102 - val_accuracy: 0.6194\n",
      "Epoch 5/50\n",
      "13/13 [==============================] - 101s 8s/step - loss: 0.3462 - accuracy: 0.8438 - val_loss: 0.4206 - val_accuracy: 0.7612\n",
      "Epoch 6/50\n",
      "13/13 [==============================] - 101s 8s/step - loss: 0.3274 - accuracy: 0.8558 - val_loss: 0.4171 - val_accuracy: 0.7910\n",
      "Epoch 7/50\n",
      "13/13 [==============================] - 102s 8s/step - loss: 0.2867 - accuracy: 0.8990 - val_loss: 0.4636 - val_accuracy: 0.7687\n",
      "Epoch 8/50\n",
      "13/13 [==============================] - 102s 8s/step - loss: 0.2573 - accuracy: 0.9231 - val_loss: 0.5971 - val_accuracy: 0.7015\n",
      "Epoch 9/50\n",
      "13/13 [==============================] - 101s 8s/step - loss: 0.2766 - accuracy: 0.9014 - val_loss: 0.5017 - val_accuracy: 0.7463\n",
      "Epoch 10/50\n",
      "13/13 [==============================] - 103s 8s/step - loss: 0.2381 - accuracy: 0.8918 - val_loss: 0.3523 - val_accuracy: 0.8358\n",
      "Epoch 11/50\n",
      "13/13 [==============================] - 101s 8s/step - loss: 0.2501 - accuracy: 0.8990 - val_loss: 0.3192 - val_accuracy: 0.8731\n",
      "Epoch 12/50\n",
      "13/13 [==============================] - 102s 8s/step - loss: 0.2410 - accuracy: 0.9038 - val_loss: 0.3195 - val_accuracy: 0.8731\n",
      "Epoch 13/50\n",
      "13/13 [==============================] - 103s 8s/step - loss: 0.2128 - accuracy: 0.9062 - val_loss: 0.2959 - val_accuracy: 0.8881\n",
      "Epoch 14/50\n",
      "13/13 [==============================] - 101s 8s/step - loss: 0.1926 - accuracy: 0.9375 - val_loss: 0.3876 - val_accuracy: 0.7836\n",
      "Epoch 15/50\n",
      "13/13 [==============================] - 101s 8s/step - loss: 0.1664 - accuracy: 0.9447 - val_loss: 0.3576 - val_accuracy: 0.8134\n",
      "Epoch 16/50\n",
      "13/13 [==============================] - 101s 8s/step - loss: 0.2007 - accuracy: 0.9399 - val_loss: 0.2812 - val_accuracy: 0.8955\n",
      "Epoch 17/50\n",
      "13/13 [==============================] - 101s 8s/step - loss: 0.2023 - accuracy: 0.9255 - val_loss: 0.5613 - val_accuracy: 0.7313\n",
      "Epoch 18/50\n",
      "13/13 [==============================] - 101s 8s/step - loss: 0.2065 - accuracy: 0.9207 - val_loss: 0.2479 - val_accuracy: 0.9030\n",
      "Epoch 19/50\n",
      "13/13 [==============================] - 107s 8s/step - loss: 0.1963 - accuracy: 0.9111 - val_loss: 0.7697 - val_accuracy: 0.6716\n",
      "Epoch 20/50\n",
      "13/13 [==============================] - 105s 8s/step - loss: 0.2405 - accuracy: 0.9111 - val_loss: 0.2446 - val_accuracy: 0.8955\n",
      "Epoch 21/50\n",
      "13/13 [==============================] - 102s 8s/step - loss: 0.1391 - accuracy: 0.9591 - val_loss: 0.3203 - val_accuracy: 0.8433\n",
      "Epoch 22/50\n",
      "13/13 [==============================] - 102s 8s/step - loss: 0.1546 - accuracy: 0.9519 - val_loss: 0.2290 - val_accuracy: 0.9104\n",
      "Epoch 23/50\n",
      "13/13 [==============================] - 103s 8s/step - loss: 0.1599 - accuracy: 0.9423 - val_loss: 0.2627 - val_accuracy: 0.8955\n",
      "Epoch 24/50\n",
      "13/13 [==============================] - 104s 8s/step - loss: 0.1574 - accuracy: 0.9447 - val_loss: 0.5656 - val_accuracy: 0.7239\n",
      "Epoch 25/50\n",
      "13/13 [==============================] - 106s 8s/step - loss: 0.1392 - accuracy: 0.9567 - val_loss: 0.2921 - val_accuracy: 0.8731\n",
      "Epoch 26/50\n",
      "13/13 [==============================] - 104s 8s/step - loss: 0.1339 - accuracy: 0.9567 - val_loss: 0.5011 - val_accuracy: 0.7388\n",
      "Epoch 27/50\n",
      "13/13 [==============================] - 107s 8s/step - loss: 0.1538 - accuracy: 0.9399 - val_loss: 0.2313 - val_accuracy: 0.9254\n",
      "Epoch 28/50\n",
      "13/13 [==============================] - 101s 8s/step - loss: 0.1351 - accuracy: 0.9567 - val_loss: 0.3945 - val_accuracy: 0.7985\n",
      "Epoch 29/50\n",
      "13/13 [==============================] - 102s 8s/step - loss: 0.1186 - accuracy: 0.9519 - val_loss: 0.3374 - val_accuracy: 0.8209\n",
      "Epoch 30/50\n",
      "13/13 [==============================] - 105s 8s/step - loss: 0.1287 - accuracy: 0.9615 - val_loss: 0.5435 - val_accuracy: 0.7313\n",
      "Epoch 31/50\n",
      "13/13 [==============================] - 104s 8s/step - loss: 0.1378 - accuracy: 0.9663 - val_loss: 0.2401 - val_accuracy: 0.9104\n",
      "Epoch 32/50\n",
      "13/13 [==============================] - 101s 8s/step - loss: 0.1146 - accuracy: 0.9615 - val_loss: 0.4416 - val_accuracy: 0.7687\n",
      "Epoch 33/50\n",
      "13/13 [==============================] - 108s 8s/step - loss: 0.1056 - accuracy: 0.9688 - val_loss: 0.3155 - val_accuracy: 0.8358\n",
      "Epoch 34/50\n",
      "13/13 [==============================] - 103s 8s/step - loss: 0.1142 - accuracy: 0.9615 - val_loss: 0.3069 - val_accuracy: 0.8433\n",
      "Epoch 35/50\n",
      "13/13 [==============================] - 102s 8s/step - loss: 0.1113 - accuracy: 0.9688 - val_loss: 0.3527 - val_accuracy: 0.8284\n",
      "Epoch 36/50\n",
      "13/13 [==============================] - 103s 8s/step - loss: 0.1146 - accuracy: 0.9760 - val_loss: 0.2224 - val_accuracy: 0.9328\n",
      "Epoch 37/50\n",
      "13/13 [==============================] - 105s 8s/step - loss: 0.0892 - accuracy: 0.9832 - val_loss: 0.2145 - val_accuracy: 0.9328\n",
      "Epoch 38/50\n",
      "13/13 [==============================] - 104s 8s/step - loss: 0.0937 - accuracy: 0.9712 - val_loss: 0.2444 - val_accuracy: 0.8881\n",
      "Epoch 39/50\n",
      "13/13 [==============================] - 104s 8s/step - loss: 0.1130 - accuracy: 0.9591 - val_loss: 0.2238 - val_accuracy: 0.9104\n",
      "Epoch 40/50\n",
      "13/13 [==============================] - 102s 8s/step - loss: 0.0976 - accuracy: 0.9760 - val_loss: 0.4590 - val_accuracy: 0.7761\n",
      "Epoch 41/50\n",
      "13/13 [==============================] - 102s 8s/step - loss: 0.1034 - accuracy: 0.9712 - val_loss: 0.2583 - val_accuracy: 0.8657\n",
      "Epoch 42/50\n",
      "13/13 [==============================] - 115s 9s/step - loss: 0.0900 - accuracy: 0.9663 - val_loss: 0.1778 - val_accuracy: 0.9328\n",
      "Epoch 43/50\n",
      "13/13 [==============================] - 112s 9s/step - loss: 0.0833 - accuracy: 0.9856 - val_loss: 0.2905 - val_accuracy: 0.8657\n",
      "Epoch 44/50\n",
      "13/13 [==============================] - 113s 9s/step - loss: 0.0916 - accuracy: 0.9736 - val_loss: 0.1787 - val_accuracy: 0.9328\n",
      "Epoch 45/50\n",
      "13/13 [==============================] - 116s 9s/step - loss: 0.1064 - accuracy: 0.9591 - val_loss: 0.2308 - val_accuracy: 0.9104\n",
      "Epoch 46/50\n",
      "13/13 [==============================] - 114s 9s/step - loss: 0.1263 - accuracy: 0.9591 - val_loss: 0.1644 - val_accuracy: 0.9403\n",
      "Epoch 47/50\n",
      "13/13 [==============================] - 115s 9s/step - loss: 0.1082 - accuracy: 0.9567 - val_loss: 0.3963 - val_accuracy: 0.8209\n",
      "Epoch 48/50\n",
      "13/13 [==============================] - 114s 9s/step - loss: 0.0886 - accuracy: 0.9832 - val_loss: 0.2866 - val_accuracy: 0.8657\n",
      "Epoch 49/50\n",
      "13/13 [==============================] - 113s 9s/step - loss: 0.0748 - accuracy: 0.9832 - val_loss: 0.4298 - val_accuracy: 0.7985\n",
      "Epoch 50/50\n",
      "13/13 [==============================] - 116s 9s/step - loss: 0.1035 - accuracy: 0.9688 - val_loss: 0.1993 - val_accuracy: 0.9254\n"
     ]
    }
   ],
   "source": [
    "\n",
    "r = model.fit_generator(\n",
    "  training_set,\n",
    "  validation_data=test_set,\n",
    "  epochs=50,\n",
    "  steps_per_epoch=len(training_set),\n",
    "  validation_steps=len(test_set)\n",
    ")"
   ]
  },
  {
   "cell_type": "code",
   "execution_count": null,
   "metadata": {},
   "outputs": [],
   "source": []
  },
  {
   "cell_type": "code",
   "execution_count": 17,
   "metadata": {},
   "outputs": [
    {
     "data": {
      "image/png": "[encoded data removed]",
      "text/plain": [
       "<Figure size 432x288 with 1 Axes>"
      ]
     },
     "metadata": {
      "needs_background": "light"
     },
     "output_type": "display_data"
    },
    {
     "data": {
      "image/png": "[encoded data removed]",
      "text/plain": [
       "<Figure size 432x288 with 1 Axes>"
      ]
     },
     "metadata": {
      "needs_background": "light"
     },
     "output_type": "display_data"
    },
    {
     "data": {
      "text/plain": [
       "<Figure size 432x288 with 0 Axes>"
      ]
     },
     "metadata": {},
     "output_type": "display_data"
    }
   ],
   "source": [
    "\n",
    "plt.plot(r.history['loss'], label='train loss')\n",
    "plt.plot(r.history['val_loss'], label='val loss')\n",
    "plt.legend()\n",
    "plt.show()\n",
    "plt.savefig('LossVal_loss')\n",
    "\n",
    "\n",
    "plt.plot(r.history['accuracy'], label='train acc')\n",
    "plt.plot(r.history['val_accuracy'], label='val acc')\n",
    "plt.legend()\n",
    "plt.show()\n",
    "plt.savefig('AccVal_acc')"
   ]
  },
  {
   "cell_type": "code",
   "execution_count": 24,
   "metadata": {},
   "outputs": [],
   "source": [
    "\n",
    "\n",
    "from tensorflow.keras.models import load_model\n",
    "\n",
    "model.save('model_vgg19.h5')"
   ]
  },
  {
   "cell_type": "code",
   "execution_count": null,
   "metadata": {},
   "outputs": [],
   "source": []
  },
  {
   "cell_type": "code",
   "execution_count": null,
   "metadata": {},
   "outputs": [],
   "source": []
  },
  {
   "cell_type": "code",
   "execution_count": 9,
   "metadata": {},
   "outputs": [],
   "source": [
    "\n",
    "y_pred = model.predict(test_set)\n"
   ]
  },
  {
   "cell_type": "code",
   "execution_count": 20,
   "metadata": {},
   "outputs": [
    {
     "data": {
      "text/plain": [
       "array([[9.99998927e-01, 1.06379798e-06],\n",
       "       [9.99979377e-01, 2.06056102e-05],\n",
       "       [4.69705313e-02, 9.53029454e-01],\n",
       "       [1.46742657e-01, 8.53257298e-01],\n",
       "       [4.49197739e-01, 5.50802231e-01],\n",
       "       [1.11012146e-01, 8.88987780e-01],\n",
       "       [8.68340433e-01, 1.31659552e-01],\n",
       "       [9.72190738e-01, 2.78092977e-02],\n",
       "       [7.82554805e-01, 2.17445165e-01],\n",
       "       [4.61172536e-02, 9.53882754e-01],\n",
       "       [6.82270646e-01, 3.17729384e-01],\n",
       "       [9.96874571e-01, 3.12543684e-03],\n",
       "       [5.88021517e-01, 4.11978483e-01],\n",
       "       [2.81820409e-02, 9.71817911e-01],\n",
       "       [9.99725640e-01, 2.74292484e-04],\n",
       "       [9.99388218e-01, 6.11722935e-04],\n",
       "       [9.95621264e-01, 4.37875139e-03],\n",
       "       [1.32342070e-01, 8.67657959e-01],\n",
       "       [6.22759700e-01, 3.77240300e-01],\n",
       "       [9.86640394e-01, 1.33596221e-02],\n",
       "       [9.82796133e-01, 1.72039475e-02],\n",
       "       [9.02695179e-01, 9.73048806e-02],\n",
       "       [9.99968410e-01, 3.15886718e-05],\n",
       "       [7.57462502e-01, 2.42537439e-01],\n",
       "       [9.99558866e-01, 4.41091601e-04],\n",
       "       [4.08963650e-01, 5.91036320e-01],\n",
       "       [9.99803841e-01, 1.96199690e-04],\n",
       "       [1.48991123e-01, 8.51008892e-01],\n",
       "       [9.78141069e-01, 2.18589697e-02],\n",
       "       [9.53445196e-01, 4.65547889e-02],\n",
       "       [2.22350825e-02, 9.77764904e-01],\n",
       "       [7.44727850e-01, 2.55272150e-01],\n",
       "       [8.86301875e-01, 1.13698155e-01],\n",
       "       [3.13975215e-02, 9.68602479e-01],\n",
       "       [9.99990702e-01, 9.33053798e-06],\n",
       "       [8.62981141e-01, 1.37018874e-01],\n",
       "       [3.01404838e-02, 9.69859540e-01],\n",
       "       [9.97485161e-01, 2.51480564e-03],\n",
       "       [5.76236546e-01, 4.23763454e-01],\n",
       "       [5.16182855e-02, 9.48381722e-01],\n",
       "       [3.74204516e-01, 6.25795484e-01],\n",
       "       [9.63509202e-01, 3.64907831e-02],\n",
       "       [8.76834035e-01, 1.23166002e-01],\n",
       "       [8.32887173e-01, 1.67112812e-01],\n",
       "       [6.21902585e-01, 3.78097415e-01],\n",
       "       [9.99751627e-01, 2.48410302e-04],\n",
       "       [9.91474748e-01, 8.52523744e-03],\n",
       "       [4.64990735e-01, 5.35009265e-01],\n",
       "       [3.91136743e-02, 9.60886359e-01],\n",
       "       [7.06028461e-01, 2.93971568e-01],\n",
       "       [9.99958754e-01, 4.12306363e-05],\n",
       "       [9.99208152e-01, 7.91854400e-04],\n",
       "       [1.02903157e-01, 8.97096813e-01],\n",
       "       [6.63894713e-02, 9.33610499e-01],\n",
       "       [8.61703873e-01, 1.38296112e-01],\n",
       "       [8.94929767e-01, 1.05070204e-01],\n",
       "       [3.33998442e-01, 6.66001558e-01],\n",
       "       [9.99094009e-01, 9.06026515e-04],\n",
       "       [5.46525717e-01, 4.53474313e-01],\n",
       "       [9.21780616e-02, 9.07821953e-01],\n",
       "       [9.36091721e-01, 6.39083013e-02],\n",
       "       [1.63179666e-01, 8.36820304e-01],\n",
       "       [3.58292349e-02, 9.64170814e-01],\n",
       "       [9.99596298e-01, 4.03696438e-04],\n",
       "       [4.28608507e-02, 9.57139194e-01],\n",
       "       [1.51473835e-01, 8.48526180e-01],\n",
       "       [9.92456555e-01, 7.54342368e-03],\n",
       "       [7.77452350e-01, 2.22547650e-01],\n",
       "       [2.42725119e-01, 7.57274866e-01],\n",
       "       [2.50462919e-01, 7.49537051e-01],\n",
       "       [3.42960767e-02, 9.65703905e-01],\n",
       "       [5.92897981e-02, 9.40710187e-01],\n",
       "       [2.87322048e-02, 9.71267819e-01],\n",
       "       [1.05123231e-02, 9.89487648e-01],\n",
       "       [9.98287618e-01, 1.71236577e-03],\n",
       "       [2.73924731e-02, 9.72607553e-01],\n",
       "       [2.52744872e-02, 9.74725544e-01],\n",
       "       [5.41011274e-01, 4.58988696e-01],\n",
       "       [6.74061999e-02, 9.32593822e-01],\n",
       "       [9.99508858e-01, 4.91182203e-04],\n",
       "       [9.76925790e-02, 9.02307451e-01],\n",
       "       [7.91994989e-01, 2.08005026e-01],\n",
       "       [1.30475968e-01, 8.69524062e-01],\n",
       "       [9.99801219e-01, 1.98837588e-04],\n",
       "       [6.41083671e-03, 9.93589163e-01],\n",
       "       [9.98783767e-01, 1.21622463e-03],\n",
       "       [7.99982309e-01, 2.00017750e-01],\n",
       "       [1.29282638e-01, 8.70717406e-01],\n",
       "       [1.21808611e-01, 8.78191411e-01],\n",
       "       [9.88330245e-01, 1.16697112e-02],\n",
       "       [6.05761707e-02, 9.39423859e-01],\n",
       "       [9.97641921e-01, 2.35805591e-03],\n",
       "       [9.99997973e-01, 1.98830253e-06],\n",
       "       [5.30174553e-01, 4.69825506e-01],\n",
       "       [5.09865284e-01, 4.90134716e-01],\n",
       "       [2.14303166e-01, 7.85696864e-01],\n",
       "       [9.96949732e-01, 3.05031799e-03],\n",
       "       [9.99866128e-01, 1.33879046e-04],\n",
       "       [1.30293788e-02, 9.86970663e-01],\n",
       "       [2.08685081e-02, 9.79131460e-01],\n",
       "       [9.99993682e-01, 6.32303500e-06],\n",
       "       [9.99026537e-01, 9.73436108e-04],\n",
       "       [9.99826491e-01, 1.73597116e-04],\n",
       "       [9.99756634e-01, 2.43339542e-04],\n",
       "       [1.00000000e+00, 2.31972255e-08],\n",
       "       [1.09040096e-01, 8.90959978e-01],\n",
       "       [9.99154091e-01, 8.45881121e-04],\n",
       "       [9.98504162e-01, 1.49582827e-03],\n",
       "       [4.47322369e-01, 5.52677572e-01],\n",
       "       [6.82389140e-02, 9.31761086e-01],\n",
       "       [9.51947510e-01, 4.80524488e-02],\n",
       "       [9.66939151e-01, 3.30608152e-02],\n",
       "       [9.98615861e-01, 1.38413534e-03],\n",
       "       [1.00000000e+00, 3.24464366e-08],\n",
       "       [1.74700450e-02, 9.82529938e-01],\n",
       "       [9.62173998e-01, 3.78260426e-02],\n",
       "       [9.99618173e-01, 3.81823193e-04],\n",
       "       [2.40743961e-02, 9.75925684e-01],\n",
       "       [9.84234393e-01, 1.57656539e-02],\n",
       "       [9.99937296e-01, 6.26444453e-05],\n",
       "       [9.41283584e-01, 5.87164126e-02],\n",
       "       [9.99642730e-01, 3.57298180e-04],\n",
       "       [9.99791563e-01, 2.08442798e-04],\n",
       "       [7.27930591e-02, 9.27206933e-01],\n",
       "       [3.51227075e-02, 9.64877248e-01],\n",
       "       [1.24839373e-01, 8.75160635e-01],\n",
       "       [8.42440903e-01, 1.57559097e-01],\n",
       "       [9.71210599e-01, 2.87893843e-02],\n",
       "       [9.93674934e-01, 6.32502744e-03],\n",
       "       [9.63898122e-01, 3.61018740e-02],\n",
       "       [8.91301334e-01, 1.08698688e-01],\n",
       "       [9.99852657e-01, 1.47327490e-04],\n",
       "       [6.93261802e-01, 3.06738168e-01],\n",
       "       [4.76412587e-02, 9.52358723e-01]], dtype=float32)"
      ]
     },
     "execution_count": 20,
     "metadata": {},
     "output_type": "execute_result"
    }
   ],
   "source": [
    "y_pred"
   ]
  },
  {
   "cell_type": "code",
   "execution_count": 21,
   "metadata": {},
   "outputs": [],
   "source": [
    "import numpy as np\n",
    "y_pred = np.argmax(y_pred, axis=1)"
   ]
  },
  {
   "cell_type": "code",
   "execution_count": 22,
   "metadata": {},
   "outputs": [
    {
     "data": {
      "text/plain": [
       "array([0, 0, 1, 1, 1, 1, 0, 0, 0, 1, 0, 0, 0, 1, 0, 0, 0, 1, 0, 0, 0, 0,\n",
       "       0, 0, 0, 1, 0, 1, 0, 0, 1, 0, 0, 1, 0, 0, 1, 0, 0, 1, 1, 0, 0, 0,\n",
       "       0, 0, 0, 1, 1, 0, 0, 0, 1, 1, 0, 0, 1, 0, 0, 1, 0, 1, 1, 0, 1, 1,\n",
       "       0, 0, 1, 1, 1, 1, 1, 1, 0, 1, 1, 0, 1, 0, 1, 0, 1, 0, 1, 0, 0, 1,\n",
       "       1, 0, 1, 0, 0, 0, 0, 1, 0, 0, 1, 1, 0, 0, 0, 0, 0, 1, 0, 0, 1, 1,\n",
       "       0, 0, 0, 0, 1, 0, 0, 1, 0, 0, 0, 0, 0, 1, 1, 1, 0, 0, 0, 0, 0, 0,\n",
       "       0, 1], dtype=int64)"
      ]
     },
     "execution_count": 22,
     "metadata": {},
     "output_type": "execute_result"
    }
   ],
   "source": [
    "y_pred"
   ]
  },
  {
   "cell_type": "code",
   "execution_count": 1,
   "metadata": {},
   "outputs": [],
   "source": [
    "from tensorflow.keras.models import load_model\n",
    "from tensorflow.keras.preprocessing import image\n",
    "import numpy as np\n",
    "from tensorflow.keras.layers import Input, Lambda, Dense, Flatten,Conv2D\n",
    "from tensorflow.keras.models import Model\n",
    "from tensorflow.keras.applications.vgg19 import VGG19\n",
    "from tensorflow.keras.applications.resnet50 import preprocess_input\n",
    "from tensorflow.keras.preprocessing import image\n",
    "from tensorflow.keras.preprocessing.image import ImageDataGenerator,load_img\n",
    "from tensorflow.keras.models import Sequential\n",
    "import numpy as np\n",
    "from glob import glob\n",
    "import matplotlib.pyplot as plt\n",
    "import tensorflow as tf"
   ]
  },
  {
   "cell_type": "code",
   "execution_count": 2,
   "metadata": {},
   "outputs": [],
   "source": [
    "model=load_model('model_vgg19.h5')"
   ]
  },
  {
   "cell_type": "code",
   "execution_count": 3,
   "metadata": {},
   "outputs": [],
   "source": [
    "img=image.load_img('Dataset/Test/Parasite/3.png',target_size=(224,224))"
   ]
  },
  {
   "cell_type": "code",
   "execution_count": 4,
   "metadata": {},
   "outputs": [],
   "source": [
    "img=image.load_img('Dataset/Test/Uninfected/2.png',target_size=(224,224))"
   ]
  },
  {
   "cell_type": "code",
   "execution_count": 5,
   "metadata": {},
   "outputs": [
    {
     "data": {
      "image/png": "[encoded data removed]",
      "text/plain": [
       "<PIL.Image.Image image mode=RGB size=224x224 at 0x2A6137D2B88>"
      ]
     },
     "execution_count": 5,
     "metadata": {},
     "output_type": "execute_result"
    }
   ],
   "source": [
    "img"
   ]
  },
  {
   "cell_type": "code",
   "execution_count": 6,
   "metadata": {},
   "outputs": [],
   "source": [
    "\n",
    "x=image.img_to_array(img)\n",
    "x=x/255"
   ]
  },
  {
   "cell_type": "code",
   "execution_count": 7,
   "metadata": {},
   "outputs": [
    {
     "data": {
      "text/plain": [
       "array([[[0., 0., 0.],\n",
       "        [0., 0., 0.],\n",
       "        [0., 0., 0.],\n",
       "        ...,\n",
       "        [0., 0., 0.],\n",
       "        [0., 0., 0.],\n",
       "        [0., 0., 0.]],\n",
       "\n",
       "       [[0., 0., 0.],\n",
       "        [0., 0., 0.],\n",
       "        [0., 0., 0.],\n",
       "        ...,\n",
       "        [0., 0., 0.],\n",
       "        [0., 0., 0.],\n",
       "        [0., 0., 0.]],\n",
       "\n",
       "       [[0., 0., 0.],\n",
       "        [0., 0., 0.],\n",
       "        [0., 0., 0.],\n",
       "        ...,\n",
       "        [0., 0., 0.],\n",
       "        [0., 0., 0.],\n",
       "        [0., 0., 0.]],\n",
       "\n",
       "       ...,\n",
       "\n",
       "       [[0., 0., 0.],\n",
       "        [0., 0., 0.],\n",
       "        [0., 0., 0.],\n",
       "        ...,\n",
       "        [0., 0., 0.],\n",
       "        [0., 0., 0.],\n",
       "        [0., 0., 0.]],\n",
       "\n",
       "       [[0., 0., 0.],\n",
       "        [0., 0., 0.],\n",
       "        [0., 0., 0.],\n",
       "        ...,\n",
       "        [0., 0., 0.],\n",
       "        [0., 0., 0.],\n",
       "        [0., 0., 0.]],\n",
       "\n",
       "       [[0., 0., 0.],\n",
       "        [0., 0., 0.],\n",
       "        [0., 0., 0.],\n",
       "        ...,\n",
       "        [0., 0., 0.],\n",
       "        [0., 0., 0.],\n",
       "        [0., 0., 0.]]], dtype=float32)"
      ]
     },
     "execution_count": 7,
     "metadata": {},
     "output_type": "execute_result"
    }
   ],
   "source": [
    "x"
   ]
  },
  {
   "cell_type": "code",
   "execution_count": 8,
   "metadata": {},
   "outputs": [],
   "source": [
    "x=np.expand_dims(x,axis=0)\n"
   ]
  },
  {
   "cell_type": "code",
   "execution_count": 9,
   "metadata": {},
   "outputs": [],
   "source": [
    "\n",
    "result=model.predict(x)"
   ]
  },
  {
   "cell_type": "code",
   "execution_count": 10,
   "metadata": {},
   "outputs": [
    {
     "name": "stdout",
     "output_type": "stream",
     "text": [
      "[[0.40896386 0.5910361 ]]\n"
     ]
    }
   ],
   "source": [
    "print(result)"
   ]
  },
  {
   "cell_type": "code",
   "execution_count": 11,
   "metadata": {},
   "outputs": [
    {
     "name": "stdout",
     "output_type": "stream",
     "text": [
      "uninfected\n"
     ]
    }
   ],
   "source": [
    "if(result[0][1]>result[0][0]):\n",
    "    print(\"uninfected\")\n",
    "else:\n",
    "    print(\"parasite\")"
   ]
  },
  {
   "cell_type": "code",
   "execution_count": null,
   "metadata": {},
   "outputs": [],
   "source": []
  }
 ],
 "metadata": {
  "kernelspec": {
   "display_name": "Python 3",
   "language": "python",
   "name": "python3"
  },
  "language_info": {
   "codemirror_mode": {
    "name": "ipython",
    "version": 3
   },
   "file_extension": ".py",
   "mimetype": "text/x-python",
   "name": "python",
   "nbconvert_exporter": "python",
   "pygments_lexer": "ipython3",
   "version": "3.7.9"
  }
 },
 "nbformat": 4,
 "nbformat_minor": 2
}
